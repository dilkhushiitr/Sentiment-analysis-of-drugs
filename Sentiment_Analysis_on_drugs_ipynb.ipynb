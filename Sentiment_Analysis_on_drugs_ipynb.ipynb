{
  "cells": [
    {
      "cell_type": "markdown",
      "metadata": {
        "id": "view-in-github",
        "colab_type": "text"
      },
      "source": [
        "<a href=\"https://colab.research.google.com/github/dilkhushiitr/Sentiment-analysis-of-drugs/blob/main/Sentiment_Analysis_on_drugs_ipynb.ipynb\" target=\"_parent\"><img src=\"https://colab.research.google.com/assets/colab-badge.svg\" alt=\"Open In Colab\"/></a>"
      ]
    },
    {
      "cell_type": "markdown",
      "metadata": {
        "id": "NKCcPVJqyBOn"
      },
      "source": [
        "# Import Libraries"
      ]
    },
    {
      "cell_type": "code",
      "execution_count": null,
      "metadata": {
        "id": "QQg11k-gyBOo"
      },
      "outputs": [],
      "source": [
        "import re\n",
        "import nltk\n",
        "import numpy as np\n",
        "import pandas as pd\n",
        "import matplotlib.pyplot as plt\n",
        "import seaborn as sns\n",
        "import warnings\n",
        "warnings.filterwarnings(\"ignore\")"
      ]
    },
    {
      "cell_type": "code",
      "execution_count": null,
      "metadata": {
        "id": "oVF8dGmmyBOp"
      },
      "outputs": [],
      "source": [
        "from nltk.corpus import stopwords\n",
        "nltk_stopwords = stopwords.words('english')"
      ]
    },
    {
      "cell_type": "markdown",
      "metadata": {
        "id": "d5GKfdW5yBOq"
      },
      "source": [
        "# Import Datasets"
      ]
    },
    {
      "cell_type": "code",
      "execution_count": null,
      "metadata": {
        "id": "5jGN065CyBOq"
      },
      "outputs": [],
      "source": [
        "train = pd.read_csv('../input/innoplexus/innoplexus_sentiment analysis/train.csv')\n",
        "test = pd.read_csv('../input/innoplexus/innoplexus_sentiment analysis/test.csv')"
      ]
    },
    {
      "cell_type": "code",
      "execution_count": null,
      "metadata": {
        "id": "M0cJkuSUyBOq",
        "outputId": "1856b2e3-ccaa-4117-a165-21422cd651b3"
      },
      "outputs": [
        {
          "name": "stdout",
          "output_type": "stream",
          "text": [
            "No. of samples in training set: 5279\n",
            "No. of samples in test set    : 2924\n"
          ]
        }
      ],
      "source": [
        "print('No. of samples in training set:', len(train))\n",
        "print('No. of samples in test set    :', len(test))"
      ]
    },
    {
      "cell_type": "markdown",
      "metadata": {
        "id": "oC37gMa7yBOr"
      },
      "source": [
        "# Text pre-processing"
      ]
    },
    {
      "cell_type": "code",
      "execution_count": null,
      "metadata": {
        "id": "veT6aoZYyBOr"
      },
      "outputs": [],
      "source": [
        "def clean_text(text):\n",
        "    text = text.lower()\n",
        "    text = re.sub(r'@[a-zA-Z0-9_]+', '', text)\n",
        "    text = re.sub(r'https?://[A-Za-z0-9./]+', '', text)\n",
        "    text = re.sub(r'www.[^ ]+', '', text)\n",
        "    text = re.sub(r'[a-zA-Z0-9]*www[a-zA-Z0-9]*com[a-zA-Z0-9]*', '', text)\n",
        "    text = re.sub(r'[^a-zA-Z]', ' ', text)\n",
        "    text = [token for token in text.split() if len(token) > 2]\n",
        "    text = ' '.join(text)\n",
        "    return text\n",
        "\n",
        "train['text'] = train['text'].apply(clean_text)\n",
        "test['text'] = test['text'].apply(clean_text)"
      ]
    },
    {
      "cell_type": "markdown",
      "metadata": {
        "id": "4YtBas4ZyBOr"
      },
      "source": [
        "# Train test split"
      ]
    },
    {
      "cell_type": "code",
      "execution_count": null,
      "metadata": {
        "id": "t3CodZKYyBOs"
      },
      "outputs": [],
      "source": [
        "from sklearn.model_selection import train_test_split\n",
        "X_train, X_cv, y_train, y_cv = train_test_split(train['text'], train['sentiment'], test_size=0.25, stratify=train['sentiment'],\n",
        "                                                random_state=1)"
      ]
    },
    {
      "cell_type": "markdown",
      "metadata": {
        "id": "GXxH7a0zyBOs"
      },
      "source": [
        "## Feature extraction & Model building"
      ]
    },
    {
      "cell_type": "code",
      "execution_count": null,
      "metadata": {
        "id": "qJpz6Am-yBOs"
      },
      "outputs": [],
      "source": [
        "from sklearn.feature_extraction.text import TfidfVectorizer\n",
        "tfidf_vect = TfidfVectorizer(analyzer='word', stop_words=None, token_pattern='(?u)\\\\b\\\\w\\\\w+\\\\b', ngram_range=(1, 1), max_df=1.0,\n",
        "                             min_df=3, max_features=None, binary=False, norm='l2', use_idf=True, smooth_idf=True, sublinear_tf=False)"
      ]
    },
    {
      "cell_type": "code",
      "execution_count": null,
      "metadata": {
        "id": "Ei0KZ-ZGyBOs"
      },
      "outputs": [],
      "source": [
        "X_train_tfidf = tfidf_vect.fit_transform(X_train)\n",
        "X_cv_tfidf = tfidf_vect.transform(X_cv)"
      ]
    },
    {
      "cell_type": "code",
      "execution_count": null,
      "metadata": {
        "id": "2ayk-2YSyBOt",
        "outputId": "c5f89813-3673-4640-d7d2-608d59609251"
      },
      "outputs": [
        {
          "name": "stdout",
          "output_type": "stream",
          "text": [
            "f1_score       : 0.5145775153047341\n",
            "accuracy score : 0.6613636363636364\n"
          ]
        }
      ],
      "source": [
        "from sklearn.metrics import f1_score, accuracy_score\n",
        "from sklearn.multiclass import OneVsRestClassifier\n",
        "from sklearn.linear_model import SGDClassifier\n",
        "sgd = SGDClassifier(loss='log', max_iter=200, random_state=0, class_weight='balanced')\n",
        "ovr = OneVsRestClassifier(sgd)\n",
        "ovr.fit(X_train_tfidf, y_train)\n",
        "y_pred_class = ovr.predict(X_cv_tfidf)\n",
        "print('f1_score       :', f1_score(y_cv, y_pred_class, average='macro'))\n",
        "print('accuracy score :', accuracy_score(y_cv, y_pred_class))"
      ]
    },
    {
      "cell_type": "markdown",
      "metadata": {
        "id": "bgLQ-eoHyBOt"
      },
      "source": [
        "# Predict on test set"
      ]
    },
    {
      "cell_type": "code",
      "execution_count": null,
      "metadata": {
        "id": "TTCABmf0yBOt"
      },
      "outputs": [],
      "source": [
        "from sklearn.feature_extraction.text import TfidfVectorizer\n",
        "tfidf_vect = TfidfVectorizer(analyzer='word', stop_words=None, token_pattern='(?u)\\\\b\\\\w\\\\w+\\\\b', ngram_range=(1, 1), max_df=1.0,\n",
        "                             min_df=3, max_features=None, binary=False, norm='l2', use_idf=True, smooth_idf=True, sublinear_tf=False)"
      ]
    },
    {
      "cell_type": "code",
      "execution_count": null,
      "metadata": {
        "id": "TNqSciwIyBOt"
      },
      "outputs": [],
      "source": [
        "full_text = list(train['text'].values) + list(test['text'].values)\n",
        "tfidf_vect.fit(full_text)\n",
        "\n",
        "X_train_tfidf = tfidf_vect.transform(train['text'])\n",
        "X_test_tfidf = tfidf_vect.transform(test['text'])\n",
        "\n",
        "y_train = train['sentiment']"
      ]
    },
    {
      "cell_type": "code",
      "execution_count": null,
      "metadata": {
        "id": "yIW_ksKPyBOu",
        "outputId": "79990633-c769-46d2-a94b-3f522a0f8744"
      },
      "outputs": [
        {
          "data": {
            "text/plain": [
              "array([2, 1, 2, ..., 2, 2, 2])"
            ]
          },
          "execution_count": 12,
          "metadata": {},
          "output_type": "execute_result"
        }
      ],
      "source": [
        "from sklearn.multiclass import OneVsRestClassifier\n",
        "from sklearn.linear_model import SGDClassifier\n",
        "sgd = SGDClassifier(loss='log', max_iter=200, random_state=0, class_weight='balanced')\n",
        "ovr = OneVsRestClassifier(sgd)\n",
        "ovr.fit(X_train_tfidf, y_train)\n",
        "y_pred_class = ovr.predict(X_test_tfidf)\n",
        "y_pred_class"
      ]
    },
    {
      "cell_type": "markdown",
      "metadata": {
        "id": "XPG0cfSnyBOu"
      },
      "source": [
        "# Submission"
      ]
    },
    {
      "cell_type": "code",
      "execution_count": null,
      "metadata": {
        "id": "FUnlSEsQyBOu",
        "outputId": "32f2f572-6a9d-4c46-b967-0a99fbc0e3f5"
      },
      "outputs": [
        {
          "data": {
            "text/html": [
              "<div>\n",
              "<style scoped>\n",
              "    .dataframe tbody tr th:only-of-type {\n",
              "        vertical-align: middle;\n",
              "    }\n",
              "\n",
              "    .dataframe tbody tr th {\n",
              "        vertical-align: top;\n",
              "    }\n",
              "\n",
              "    .dataframe thead th {\n",
              "        text-align: right;\n",
              "    }\n",
              "</style>\n",
              "<table border=\"1\" class=\"dataframe\">\n",
              "  <thead>\n",
              "    <tr style=\"text-align: right;\">\n",
              "      <th></th>\n",
              "      <th>unique_hash</th>\n",
              "      <th>sentiment</th>\n",
              "    </tr>\n",
              "  </thead>\n",
              "  <tbody>\n",
              "    <tr>\n",
              "      <th>0</th>\n",
              "      <td>9e9a8166b84114aca147bf409f6f956635034c08</td>\n",
              "      <td>2</td>\n",
              "    </tr>\n",
              "    <tr>\n",
              "      <th>1</th>\n",
              "      <td>e747e6822c867571afe7b907b51f0f2ca67b0e1a</td>\n",
              "      <td>1</td>\n",
              "    </tr>\n",
              "    <tr>\n",
              "      <th>2</th>\n",
              "      <td>50b6d851bcff4f35afe354937949e9948975adf7</td>\n",
              "      <td>2</td>\n",
              "    </tr>\n",
              "    <tr>\n",
              "      <th>3</th>\n",
              "      <td>7f82ec2176ae6ab0b5d20b5ffc767ac829f384ae</td>\n",
              "      <td>2</td>\n",
              "    </tr>\n",
              "    <tr>\n",
              "      <th>4</th>\n",
              "      <td>8b37d169dee5bdae27060949242fb54feb6a7f7f</td>\n",
              "      <td>2</td>\n",
              "    </tr>\n",
              "  </tbody>\n",
              "</table>\n",
              "</div>"
            ],
            "text/plain": [
              "                                unique_hash  sentiment\n",
              "0  9e9a8166b84114aca147bf409f6f956635034c08          2\n",
              "1  e747e6822c867571afe7b907b51f0f2ca67b0e1a          1\n",
              "2  50b6d851bcff4f35afe354937949e9948975adf7          2\n",
              "3  7f82ec2176ae6ab0b5d20b5ffc767ac829f384ae          2\n",
              "4  8b37d169dee5bdae27060949242fb54feb6a7f7f          2"
            ]
          },
          "execution_count": 13,
          "metadata": {},
          "output_type": "execute_result"
        }
      ],
      "source": [
        "test['sentiment'] = y_pred_class\n",
        "test.drop(['text','drug'], axis=1,inplace=True)\n",
        "test.head()"
      ]
    },
    {
      "cell_type": "code",
      "execution_count": null,
      "metadata": {
        "id": "Y1rqRwaZyBOu",
        "outputId": "86337f2f-0705-44cf-d3b3-db91e5f6d5c2"
      },
      "outputs": [
        {
          "data": {
            "text/plain": [
              "2    1958\n",
              "0     487\n",
              "1     479\n",
              "Name: sentiment, dtype: int64"
            ]
          },
          "execution_count": 14,
          "metadata": {},
          "output_type": "execute_result"
        }
      ],
      "source": [
        "test['sentiment'].value_counts()"
      ]
    },
    {
      "cell_type": "code",
      "execution_count": null,
      "metadata": {
        "id": "QfisZKhIyBOv"
      },
      "outputs": [],
      "source": [
        "test.to_csv('submission.csv', index=False)"
      ]
    }
  ],
  "metadata": {
    "kernelspec": {
      "display_name": "Python 3",
      "language": "python",
      "name": "python3"
    },
    "language_info": {
      "codemirror_mode": {
        "name": "ipython",
        "version": 3
      },
      "file_extension": ".py",
      "mimetype": "text/x-python",
      "name": "python",
      "nbconvert_exporter": "python",
      "pygments_lexer": "ipython3",
      "version": "3.6.5"
    },
    "toc": {
      "base_numbering": 1,
      "nav_menu": {},
      "number_sections": true,
      "sideBar": true,
      "skip_h1_title": false,
      "title_cell": "Table of Contents",
      "title_sidebar": "Contents",
      "toc_cell": false,
      "toc_position": {},
      "toc_section_display": true,
      "toc_window_display": false
    },
    "colab": {
      "provenance": [],
      "include_colab_link": true
    }
  },
  "nbformat": 4,
  "nbformat_minor": 0
}